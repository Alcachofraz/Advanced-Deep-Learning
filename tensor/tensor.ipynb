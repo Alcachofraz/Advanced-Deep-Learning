{
 "cells": [
  {
   "cell_type": "code",
   "execution_count": null,
   "metadata": {},
   "outputs": [],
   "source": [
    "import tensorflow as tf\n",
    "import tensorflow.python.keras as keras\n",
    "\n",
    "nn = keras.Sequential()\n",
    "\n",
    "nn.add(keras.layers.Dense(units=32, input_shape=(20,), activation=\"tanh\"))\n",
    "nn.add(keras.layers.Dense(10, activation=\"softmax\"))\n",
    "nn.compile(optimizer=\"adam\", loss=\"categorical_crossentropy\")"
   ]
  }
 ],
 "metadata": {
  "language_info": {
   "name": "python"
  },
  "orig_nbformat": 4
 },
 "nbformat": 4,
 "nbformat_minor": 2
}
